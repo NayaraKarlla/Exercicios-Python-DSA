{
 "cells": [
  {
   "cell_type": "markdown",
   "id": "9eacc474",
   "metadata": {},
   "source": [
    "Exercício 1 - Imprima na tela os números de 1 a 10. Use uma lista para armazenar os números."
   ]
  },
  {
   "cell_type": "code",
   "execution_count": 1,
   "id": "f3dcd0b2",
   "metadata": {},
   "outputs": [],
   "source": [
    "lista = [1,2,3,4,5,6,7,8,9,10]"
   ]
  },
  {
   "cell_type": "code",
   "execution_count": 10,
   "id": "c7347dff",
   "metadata": {},
   "outputs": [
    {
     "name": "stdout",
     "output_type": "stream",
     "text": [
      "[1, 2, 3, 4, 5, 6, 7, 8, 9, 10]\n"
     ]
    }
   ],
   "source": [
    "print(lista)"
   ]
  },
  {
   "cell_type": "markdown",
   "id": "a7b70b9e",
   "metadata": {},
   "source": [
    "Exercício 2 - Crie uma lista de 5 objetos e imprima na tela"
   ]
  },
  {
   "cell_type": "code",
   "execution_count": 11,
   "id": "7720fed8",
   "metadata": {},
   "outputs": [],
   "source": [
    "lista_objeto = ['paixão', 'paz', 'alegria', 'sorriso', 'harmônia']"
   ]
  },
  {
   "cell_type": "code",
   "execution_count": 12,
   "id": "b3d44f67",
   "metadata": {},
   "outputs": [
    {
     "name": "stdout",
     "output_type": "stream",
     "text": [
      "['paixão', 'paz', 'alegria', 'sorriso', 'harmônia']\n"
     ]
    }
   ],
   "source": [
    "print(lista_objeto)"
   ]
  },
  {
   "cell_type": "markdown",
   "id": "17ccb9ff",
   "metadata": {},
   "source": [
    "Exercício 3 - Crie duas strings e concatene as duas em uma terceira string"
   ]
  },
  {
   "cell_type": "code",
   "execution_count": 72,
   "id": "2e069c2c",
   "metadata": {},
   "outputs": [],
   "source": [
    "frase1 = 'Viagem'\n",
    "frase2 = 'para a praia'"
   ]
  },
  {
   "cell_type": "code",
   "execution_count": 73,
   "id": "50e98efe",
   "metadata": {},
   "outputs": [],
   "source": [
    "frase_final = frase1 + frase2"
   ]
  },
  {
   "cell_type": "code",
   "execution_count": 74,
   "id": "94cd34be",
   "metadata": {},
   "outputs": [
    {
     "name": "stdout",
     "output_type": "stream",
     "text": [
      "Viagempara a praia\n"
     ]
    }
   ],
   "source": [
    "print(frase_final)"
   ]
  },
  {
   "cell_type": "markdown",
   "id": "05db73ed",
   "metadata": {},
   "source": [
    "Exercício 4 - Crie uma tupla com os seguintes elementos: 1, 2, 2, 3, 4, 4, 4, 5 e depois utilize a função count do \n",
    "objeto tupla para verificar quantas vezes o número 4 aparece na tupla"
   ]
  },
  {
   "cell_type": "code",
   "execution_count": 23,
   "id": "790082aa",
   "metadata": {},
   "outputs": [],
   "source": [
    "tupla = (1, 2, 2, 3, 4, 4, 4, 5)"
   ]
  },
  {
   "cell_type": "code",
   "execution_count": 25,
   "id": "3c85eb65",
   "metadata": {},
   "outputs": [
    {
     "data": {
      "text/plain": [
       "3"
      ]
     },
     "execution_count": 25,
     "metadata": {},
     "output_type": "execute_result"
    }
   ],
   "source": [
    "tupla.count(4)"
   ]
  },
  {
   "cell_type": "markdown",
   "id": "53ceb183",
   "metadata": {},
   "source": [
    "Exercício 5 - Crie um dicionário vazio e imprima na tela"
   ]
  },
  {
   "cell_type": "code",
   "execution_count": 76,
   "id": "814a15ee",
   "metadata": {},
   "outputs": [],
   "source": [
    "dicionário = {}"
   ]
  },
  {
   "cell_type": "code",
   "execution_count": 77,
   "id": "dc957c70",
   "metadata": {},
   "outputs": [
    {
     "name": "stdout",
     "output_type": "stream",
     "text": [
      "{}\n"
     ]
    }
   ],
   "source": [
    "print(dicionário)"
   ]
  },
  {
   "cell_type": "markdown",
   "id": "5e706e82",
   "metadata": {},
   "source": [
    "Exercício 6 - Crie um dicionário com 3 chaves e 3 valores e imprima na tela"
   ]
  },
  {
   "cell_type": "code",
   "execution_count": 54,
   "id": "3ade0ceb",
   "metadata": {},
   "outputs": [],
   "source": [
    "dicionário = {'Café': 33, 'Leite': 7, 'Àgua': 8}"
   ]
  },
  {
   "cell_type": "code",
   "execution_count": 55,
   "id": "5a660b8f",
   "metadata": {},
   "outputs": [
    {
     "name": "stdout",
     "output_type": "stream",
     "text": [
      "{'Café': 33, 'Leite': 7, 'Àgua': 8}\n"
     ]
    }
   ],
   "source": [
    "print(dicionário)"
   ]
  },
  {
   "cell_type": "markdown",
   "id": "0e7b748b",
   "metadata": {},
   "source": [
    "Exercício 7 - Adicione mais um elemento ao dicionário criado no exercício anterior e imprima na tela"
   ]
  },
  {
   "cell_type": "code",
   "execution_count": 57,
   "id": "076eebed",
   "metadata": {},
   "outputs": [],
   "source": [
    "dicionário['Chá'] = 10"
   ]
  },
  {
   "cell_type": "code",
   "execution_count": 58,
   "id": "91d07382",
   "metadata": {},
   "outputs": [
    {
     "name": "stdout",
     "output_type": "stream",
     "text": [
      "{'Café': 33, 'Leite': 7, 'Àgua': 8, 'Chá': 10}\n"
     ]
    }
   ],
   "source": [
    "print(dicionário)"
   ]
  },
  {
   "cell_type": "markdown",
   "id": "bdc0dd87",
   "metadata": {},
   "source": [
    "Exercício 8 - Crie um dicionário com 3 chaves e 3 valores. Um dos valores deve ser uma lista de 2 elementos numéricos. \n",
    "Imprima o dicionário na tela."
   ]
  },
  {
   "cell_type": "code",
   "execution_count": 59,
   "id": "082829f7",
   "metadata": {},
   "outputs": [],
   "source": [
    "dicionário_2 = {'Pedra': 1, 'Papel': [2,4], 'Tesoura': 3}"
   ]
  },
  {
   "cell_type": "code",
   "execution_count": 60,
   "id": "98e0da22",
   "metadata": {},
   "outputs": [
    {
     "name": "stdout",
     "output_type": "stream",
     "text": [
      "{'Pedra': 1, 'Papel': [2, 4], 'Tesoura': 3}\n"
     ]
    }
   ],
   "source": [
    "print(dicionário_2)"
   ]
  },
  {
   "cell_type": "markdown",
   "id": "0f70c8d6",
   "metadata": {},
   "source": [
    "Exercício 9 - Crie uma lista de 4 elementos. O primeiro elemento deve ser uma string, \n",
    "o segundo uma tupla de 2 elementos, o terceiro um dicionário com 2 chaves e 2 valores e \n",
    "o quarto elemento um valor do tipo float.\n",
    "Imprima a lista na tela."
   ]
  },
  {
   "cell_type": "code",
   "execution_count": 80,
   "id": "250e685d",
   "metadata": {},
   "outputs": [],
   "source": [
    "lista_4_elementos = ['String1', (80, 92), {'Dicionário1':'v1', 'Dicionário2':'v2'}, 99.98]"
   ]
  },
  {
   "cell_type": "code",
   "execution_count": 81,
   "id": "73fe49e0",
   "metadata": {},
   "outputs": [
    {
     "name": "stdout",
     "output_type": "stream",
     "text": [
      "['String1', (80, 92), {'Dicionário1': 'v1', 'Dicionário2': 'v2'}, 99.98]\n"
     ]
    }
   ],
   "source": [
    "print(lista_4_elementos)"
   ]
  },
  {
   "cell_type": "markdown",
   "id": "0321e62a",
   "metadata": {},
   "source": [
    "Exercício 10 - Considere a string abaixo. Imprima na tela apenas os caracteres da posição 1 a 18.\n",
    "frase = 'Cientista de Dados é o profissional mais sexy do século XXI'"
   ]
  },
  {
   "cell_type": "code",
   "execution_count": 62,
   "id": "b04d7395",
   "metadata": {},
   "outputs": [],
   "source": [
    "frase = 'Cientista de Dados é o profissional mais sexy do século XXI'"
   ]
  },
  {
   "cell_type": "code",
   "execution_count": 83,
   "id": "28c012e3",
   "metadata": {},
   "outputs": [
    {
     "data": {
      "text/plain": [
       "'Cientista de Dados'"
      ]
     },
     "execution_count": 83,
     "metadata": {},
     "output_type": "execute_result"
    }
   ],
   "source": [
    "frase[0:18]"
   ]
  },
  {
   "cell_type": "markdown",
   "id": "7422a37f",
   "metadata": {},
   "source": [
    "Obs: Antes de achar que o resultado acima está errado, reflita junto comigo:\n",
    "\n",
    "Em uma corrida ou maratona quem sobre ao podium? Aqueles que ficam nas posições 1, 2 e 3, certo? Existe posição zero? Não! Pois bem!\n",
    "\n",
    "O exercício acima pede os caracteres nas posições de 1 a 18 (não existe posição zero). Em Python, a indexação (que representa o índice) começa por zero. Logo, posições de 1 a 18 estão nos índices de 0 a 18 (pois 18 é exclusivo e portanto temos de 0 a 17, logo 18 posições)."
   ]
  },
  {
   "cell_type": "code",
   "execution_count": null,
   "id": "24a571b4",
   "metadata": {},
   "outputs": [],
   "source": []
  }
 ],
 "metadata": {
  "kernelspec": {
   "display_name": "Python 3 (ipykernel)",
   "language": "python",
   "name": "python3"
  },
  "language_info": {
   "codemirror_mode": {
    "name": "ipython",
    "version": 3
   },
   "file_extension": ".py",
   "mimetype": "text/x-python",
   "name": "python",
   "nbconvert_exporter": "python",
   "pygments_lexer": "ipython3",
   "version": "3.9.7"
  }
 },
 "nbformat": 4,
 "nbformat_minor": 5
}
