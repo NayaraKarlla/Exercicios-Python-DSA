{
 "cells": [
  {
   "cell_type": "markdown",
   "id": "de1a5209",
   "metadata": {},
   "source": [
    "**Data Science Academy - Python Fundamentos - Exercícios Listas Capítulo 2"
   ]
  },
  {
   "cell_type": "code",
   "execution_count": 1,
   "id": "af006aef",
   "metadata": {},
   "outputs": [],
   "source": [
    "#Criando uma lista de um único elemento\n",
    "listadomercado = [\"ovos, farinha, leite, maças\"]"
   ]
  },
  {
   "cell_type": "code",
   "execution_count": 3,
   "id": "13fde100",
   "metadata": {},
   "outputs": [
    {
     "name": "stdout",
     "output_type": "stream",
     "text": [
      "['ovos, farinha, leite, maças']\n"
     ]
    }
   ],
   "source": [
    "# Imprimindo a lista\n",
    "print(listadomercado)"
   ]
  },
  {
   "cell_type": "code",
   "execution_count": 4,
   "id": "fca7610c",
   "metadata": {},
   "outputs": [],
   "source": [
    "# Criando outra lista com quatro elementos\n",
    "listadomercado2 = [\"ovos\", \"farinha\", \"leite\", \"maças\"]"
   ]
  },
  {
   "cell_type": "code",
   "execution_count": 5,
   "id": "67bb8787",
   "metadata": {},
   "outputs": [
    {
     "name": "stdout",
     "output_type": "stream",
     "text": [
      "['ovos', 'farinha', 'leite', 'maças']\n"
     ]
    }
   ],
   "source": [
    "# Imprimindo a lista\n",
    "print(listadomercado2)"
   ]
  },
  {
   "cell_type": "code",
   "execution_count": 6,
   "id": "3e72c594",
   "metadata": {},
   "outputs": [
    {
     "data": {
      "text/plain": [
       "'ovos, farinha, leite, maças'"
      ]
     },
     "execution_count": 6,
     "metadata": {},
     "output_type": "execute_result"
    }
   ],
   "source": [
    "listadomercado[0]"
   ]
  },
  {
   "cell_type": "code",
   "execution_count": 7,
   "id": "2a204bae",
   "metadata": {},
   "outputs": [
    {
     "data": {
      "text/plain": [
       "'ovos'"
      ]
     },
     "execution_count": 7,
     "metadata": {},
     "output_type": "execute_result"
    }
   ],
   "source": [
    "listadomercado2[0]"
   ]
  },
  {
   "cell_type": "code",
   "execution_count": 8,
   "id": "e0775a27",
   "metadata": {},
   "outputs": [],
   "source": [
    "# Lista com diferentes tipos: númerico e texto\n",
    "lista3 = [12, 100, \"universidade\"]"
   ]
  },
  {
   "cell_type": "code",
   "execution_count": 9,
   "id": "d01079fb",
   "metadata": {},
   "outputs": [],
   "source": [
    "# Atríbuindo cada valor da lista a uma variável\n",
    "item1 = lista3[0]\n",
    "item2 = lista3[1]\n",
    "item3 = lista3[2]"
   ]
  },
  {
   "cell_type": "code",
   "execution_count": 10,
   "id": "0ed93fac",
   "metadata": {},
   "outputs": [
    {
     "name": "stdout",
     "output_type": "stream",
     "text": [
      "12 100 universidade\n"
     ]
    }
   ],
   "source": [
    "# Imprimindo as variáveis\n",
    "print(item1, item2, item3)"
   ]
  },
  {
   "cell_type": "markdown",
   "id": "5e0f7712",
   "metadata": {},
   "source": [
    "ATUALIZANDO UM ITEM DA LISTA POIS ELA É MUTÁVEL"
   ]
  },
  {
   "cell_type": "code",
   "execution_count": 11,
   "id": "a47c4e9f",
   "metadata": {},
   "outputs": [
    {
     "data": {
      "text/plain": [
       "'leite'"
      ]
     },
     "execution_count": 11,
     "metadata": {},
     "output_type": "execute_result"
    }
   ],
   "source": [
    "# Imprimindo um item da lista\n",
    "listadomercado2[2]"
   ]
  },
  {
   "cell_type": "code",
   "execution_count": 13,
   "id": "3b6691ab",
   "metadata": {},
   "outputs": [],
   "source": [
    "# Atualizando um item da lista\n",
    "listadomercado2[2] = \"chocolate\""
   ]
  },
  {
   "cell_type": "code",
   "execution_count": 14,
   "id": "7175ac8c",
   "metadata": {},
   "outputs": [
    {
     "data": {
      "text/plain": [
       "['ovos', 'farinha', 'chocolate', 'maças']"
      ]
     },
     "execution_count": 14,
     "metadata": {},
     "output_type": "execute_result"
    }
   ],
   "source": [
    "# Imprimindo lista alterada\n",
    "listadomercado2"
   ]
  },
  {
   "cell_type": "markdown",
   "id": "b9b99f6b",
   "metadata": {},
   "source": [
    "DELETANDO UM ITEM DA LISTA"
   ]
  },
  {
   "cell_type": "code",
   "execution_count": 15,
   "id": "a6027f40",
   "metadata": {},
   "outputs": [
    {
     "ename": "IndexError",
     "evalue": "list assignment index out of range",
     "output_type": "error",
     "traceback": [
      "\u001b[1;31m---------------------------------------------------------------------------\u001b[0m",
      "\u001b[1;31mIndexError\u001b[0m                                Traceback (most recent call last)",
      "\u001b[1;32m~\\AppData\\Local\\Temp/ipykernel_1648/714023513.py\u001b[0m in \u001b[0;36m<module>\u001b[1;34m\u001b[0m\n\u001b[0;32m      1\u001b[0m \u001b[1;31m# Out of index. Não é possível deletar um item que não existe na lista\u001b[0m\u001b[1;33m\u001b[0m\u001b[1;33m\u001b[0m\u001b[0m\n\u001b[1;32m----> 2\u001b[1;33m \u001b[1;32mdel\u001b[0m \u001b[0mlistadomercado2\u001b[0m\u001b[1;33m[\u001b[0m\u001b[1;36m4\u001b[0m\u001b[1;33m]\u001b[0m\u001b[1;33m\u001b[0m\u001b[1;33m\u001b[0m\u001b[0m\n\u001b[0m",
      "\u001b[1;31mIndexError\u001b[0m: list assignment index out of range"
     ]
    }
   ],
   "source": [
    "# Out of index. Não é possível deletar um item que não existe na lista\n",
    "del listadomercado2[4]"
   ]
  },
  {
   "cell_type": "code",
   "execution_count": 17,
   "id": "2024fbf7",
   "metadata": {},
   "outputs": [],
   "source": [
    "# Deletando um item específico da lista\n",
    "del listadomercado2[3]"
   ]
  },
  {
   "cell_type": "code",
   "execution_count": 18,
   "id": "f017620d",
   "metadata": {},
   "outputs": [
    {
     "data": {
      "text/plain": [
       "['ovos', 'farinha', 'chocolate']"
      ]
     },
     "execution_count": 18,
     "metadata": {},
     "output_type": "execute_result"
    }
   ],
   "source": [
    "# Imprimindo o item com a lista alterada\n",
    "listadomercado2"
   ]
  },
  {
   "cell_type": "markdown",
   "id": "30107fb3",
   "metadata": {},
   "source": [
    "LISTA DE LISTAS (LISTAS ANINHADAS)"
   ]
  },
  {
   "cell_type": "markdown",
   "id": "021fdea4",
   "metadata": {},
   "source": [
    "Listas de listas são matrizes em Python"
   ]
  },
  {
   "cell_type": "code",
   "execution_count": 28,
   "id": "13a2ff74",
   "metadata": {},
   "outputs": [],
   "source": [
    "# Criando uma lista de listas\n",
    "listas = [[1,2,3], [10,15,14], [10.1,8.7,2.3]]"
   ]
  },
  {
   "cell_type": "code",
   "execution_count": 29,
   "id": "d3db1af9",
   "metadata": {},
   "outputs": [
    {
     "data": {
      "text/plain": [
       "[[1, 2, 3], [10, 15, 14], [10.1, 8.7, 2.3]]"
      ]
     },
     "execution_count": 29,
     "metadata": {},
     "output_type": "execute_result"
    }
   ],
   "source": [
    "# Imprimindo a lista\n",
    "listas"
   ]
  },
  {
   "cell_type": "code",
   "execution_count": 30,
   "id": "a9027212",
   "metadata": {},
   "outputs": [],
   "source": [
    "# Atribuindo um item da lista a uma variável\n",
    "a = listas[0]"
   ]
  },
  {
   "cell_type": "code",
   "execution_count": 31,
   "id": "7a130264",
   "metadata": {},
   "outputs": [
    {
     "data": {
      "text/plain": [
       "[1, 2, 3]"
      ]
     },
     "execution_count": 31,
     "metadata": {},
     "output_type": "execute_result"
    }
   ],
   "source": [
    "a"
   ]
  },
  {
   "cell_type": "code",
   "execution_count": 33,
   "id": "ba57f8fa",
   "metadata": {},
   "outputs": [],
   "source": [
    "b = a[0]"
   ]
  },
  {
   "cell_type": "code",
   "execution_count": 34,
   "id": "945cf1bf",
   "metadata": {},
   "outputs": [
    {
     "data": {
      "text/plain": [
       "1"
      ]
     },
     "execution_count": 34,
     "metadata": {},
     "output_type": "execute_result"
    }
   ],
   "source": [
    "b"
   ]
  },
  {
   "cell_type": "code",
   "execution_count": 35,
   "id": "7e83763b",
   "metadata": {},
   "outputs": [],
   "source": [
    "list1 = listas[1]"
   ]
  },
  {
   "cell_type": "code",
   "execution_count": 36,
   "id": "7c6498c6",
   "metadata": {},
   "outputs": [
    {
     "data": {
      "text/plain": [
       "[10, 15, 14]"
      ]
     },
     "execution_count": 36,
     "metadata": {},
     "output_type": "execute_result"
    }
   ],
   "source": [
    "list1"
   ]
  },
  {
   "cell_type": "code",
   "execution_count": 37,
   "id": "9f03584b",
   "metadata": {},
   "outputs": [],
   "source": [
    "valor_1_0 = list1[0]"
   ]
  },
  {
   "cell_type": "code",
   "execution_count": 38,
   "id": "df6ff53d",
   "metadata": {},
   "outputs": [
    {
     "data": {
      "text/plain": [
       "10"
      ]
     },
     "execution_count": 38,
     "metadata": {},
     "output_type": "execute_result"
    }
   ],
   "source": [
    "valor_1_0"
   ]
  },
  {
   "cell_type": "code",
   "execution_count": 39,
   "id": "a902a6d8",
   "metadata": {},
   "outputs": [],
   "source": [
    "valor_1_2 = list1[2]"
   ]
  },
  {
   "cell_type": "code",
   "execution_count": 40,
   "id": "76a021ea",
   "metadata": {},
   "outputs": [
    {
     "data": {
      "text/plain": [
       "14"
      ]
     },
     "execution_count": 40,
     "metadata": {},
     "output_type": "execute_result"
    }
   ],
   "source": [
    "valor_1_2"
   ]
  },
  {
   "cell_type": "code",
   "execution_count": 42,
   "id": "550eb573",
   "metadata": {},
   "outputs": [],
   "source": [
    "list2 = listas[2]"
   ]
  },
  {
   "cell_type": "code",
   "execution_count": 43,
   "id": "7196b0cf",
   "metadata": {},
   "outputs": [
    {
     "data": {
      "text/plain": [
       "[10.1, 8.7, 2.3]"
      ]
     },
     "execution_count": 43,
     "metadata": {},
     "output_type": "execute_result"
    }
   ],
   "source": [
    "list2"
   ]
  },
  {
   "cell_type": "code",
   "execution_count": 44,
   "id": "3d298e8e",
   "metadata": {},
   "outputs": [],
   "source": [
    "valor_2_0 = list2[0]"
   ]
  },
  {
   "cell_type": "code",
   "execution_count": 45,
   "id": "dce2c1ba",
   "metadata": {},
   "outputs": [
    {
     "data": {
      "text/plain": [
       "10.1"
      ]
     },
     "execution_count": 45,
     "metadata": {},
     "output_type": "execute_result"
    }
   ],
   "source": [
    "valor_2_0"
   ]
  },
  {
   "cell_type": "markdown",
   "id": "9e33f475",
   "metadata": {},
   "source": [
    "OPERAÇÕES COM LISTAS"
   ]
  },
  {
   "cell_type": "code",
   "execution_count": 46,
   "id": "6f2bc5e6",
   "metadata": {},
   "outputs": [],
   "source": [
    "# Criando uma lista aninhada (lista de listas)\n",
    "listas = [[1,2,3], [10,15,14], [10.1,8.7,2.3]]"
   ]
  },
  {
   "cell_type": "code",
   "execution_count": 47,
   "id": "570231ea",
   "metadata": {},
   "outputs": [
    {
     "data": {
      "text/plain": [
       "[[1, 2, 3], [10, 15, 14], [10.1, 8.7, 2.3]]"
      ]
     },
     "execution_count": 47,
     "metadata": {},
     "output_type": "execute_result"
    }
   ],
   "source": [
    "listas"
   ]
  },
  {
   "cell_type": "code",
   "execution_count": 48,
   "id": "25e9da80",
   "metadata": {},
   "outputs": [],
   "source": [
    "# Atribuindo à variável a, o primeiro valor da primeira lista\n",
    "a = listas[0][0]"
   ]
  },
  {
   "cell_type": "code",
   "execution_count": 49,
   "id": "0a5ef30f",
   "metadata": {},
   "outputs": [
    {
     "data": {
      "text/plain": [
       "1"
      ]
     },
     "execution_count": 49,
     "metadata": {},
     "output_type": "execute_result"
    }
   ],
   "source": [
    "a"
   ]
  },
  {
   "cell_type": "code",
   "execution_count": 50,
   "id": "eae0aba4",
   "metadata": {},
   "outputs": [],
   "source": [
    "b = listas[1][2]"
   ]
  },
  {
   "cell_type": "code",
   "execution_count": 51,
   "id": "c87ce0ca",
   "metadata": {},
   "outputs": [
    {
     "data": {
      "text/plain": [
       "14"
      ]
     },
     "execution_count": 51,
     "metadata": {},
     "output_type": "execute_result"
    }
   ],
   "source": [
    "b"
   ]
  },
  {
   "cell_type": "code",
   "execution_count": 52,
   "id": "821d5995",
   "metadata": {},
   "outputs": [],
   "source": [
    "c = listas [0][2] + 10"
   ]
  },
  {
   "cell_type": "code",
   "execution_count": 53,
   "id": "a8982b95",
   "metadata": {},
   "outputs": [
    {
     "data": {
      "text/plain": [
       "13"
      ]
     },
     "execution_count": 53,
     "metadata": {},
     "output_type": "execute_result"
    }
   ],
   "source": [
    "c"
   ]
  },
  {
   "cell_type": "code",
   "execution_count": 54,
   "id": "e42e850b",
   "metadata": {},
   "outputs": [],
   "source": [
    "d = 10"
   ]
  },
  {
   "cell_type": "code",
   "execution_count": 55,
   "id": "c813d0ff",
   "metadata": {},
   "outputs": [
    {
     "data": {
      "text/plain": [
       "10"
      ]
     },
     "execution_count": 55,
     "metadata": {},
     "output_type": "execute_result"
    }
   ],
   "source": [
    "d"
   ]
  },
  {
   "cell_type": "code",
   "execution_count": 56,
   "id": "76b779f2",
   "metadata": {},
   "outputs": [],
   "source": [
    "e = d * listas[2][0]"
   ]
  },
  {
   "cell_type": "code",
   "execution_count": 57,
   "id": "587448d3",
   "metadata": {},
   "outputs": [
    {
     "data": {
      "text/plain": [
       "101.0"
      ]
     },
     "execution_count": 57,
     "metadata": {},
     "output_type": "execute_result"
    }
   ],
   "source": [
    "e"
   ]
  },
  {
   "cell_type": "markdown",
   "id": "250fba44",
   "metadata": {},
   "source": [
    "CONCATENANDO LISTAS"
   ]
  },
  {
   "cell_type": "code",
   "execution_count": 61,
   "id": "89bc03e3",
   "metadata": {},
   "outputs": [],
   "source": [
    "lista_s1 = [34, 32, 56]"
   ]
  },
  {
   "cell_type": "code",
   "execution_count": 59,
   "id": "68065975",
   "metadata": {},
   "outputs": [
    {
     "data": {
      "text/plain": [
       "[34, 32, 56]"
      ]
     },
     "execution_count": 59,
     "metadata": {},
     "output_type": "execute_result"
    }
   ],
   "source": [
    "lista_s1"
   ]
  },
  {
   "cell_type": "code",
   "execution_count": 62,
   "id": "51f92f43",
   "metadata": {},
   "outputs": [],
   "source": [
    "lista_s2 = [21, 90, 51]"
   ]
  },
  {
   "cell_type": "code",
   "execution_count": 63,
   "id": "ea20a1b2",
   "metadata": {},
   "outputs": [
    {
     "data": {
      "text/plain": [
       "[21, 90, 51]"
      ]
     },
     "execution_count": 63,
     "metadata": {},
     "output_type": "execute_result"
    }
   ],
   "source": [
    "lista_s2"
   ]
  },
  {
   "cell_type": "code",
   "execution_count": 64,
   "id": "348c97a3",
   "metadata": {},
   "outputs": [],
   "source": [
    "# Concatenando listas\n",
    "lista_total = lista_s1 + lista_s2"
   ]
  },
  {
   "cell_type": "code",
   "execution_count": 65,
   "id": "df4cde5e",
   "metadata": {},
   "outputs": [
    {
     "data": {
      "text/plain": [
       "[34, 32, 56, 21, 90, 51]"
      ]
     },
     "execution_count": 65,
     "metadata": {},
     "output_type": "execute_result"
    }
   ],
   "source": [
    "lista_total"
   ]
  },
  {
   "cell_type": "markdown",
   "id": "78cc088e",
   "metadata": {},
   "source": [
    "OPERADOR IN"
   ]
  },
  {
   "cell_type": "markdown",
   "id": "07ff797b",
   "metadata": {},
   "source": [
    "Faz uma pesquisa dentro de uma lista"
   ]
  },
  {
   "cell_type": "code",
   "execution_count": 67,
   "id": "38b27b08",
   "metadata": {},
   "outputs": [],
   "source": [
    "# Criando uma lista \n",
    "lista_teste_op = [100, 2, -5, 3]"
   ]
  },
  {
   "cell_type": "code",
   "execution_count": 68,
   "id": "46ed456b",
   "metadata": {},
   "outputs": [
    {
     "name": "stdout",
     "output_type": "stream",
     "text": [
      "False\n"
     ]
    }
   ],
   "source": [
    "# Verificando se o valor 100 pertence a lista\n",
    "print(10 in lista_teste_op)"
   ]
  },
  {
   "cell_type": "code",
   "execution_count": 69,
   "id": "dfe35f59",
   "metadata": {},
   "outputs": [
    {
     "name": "stdout",
     "output_type": "stream",
     "text": [
      "True\n"
     ]
    }
   ],
   "source": [
    "# Verificando se o valor 100 pertence a lista\n",
    "print(100 in lista_teste_op)"
   ]
  },
  {
   "cell_type": "markdown",
   "id": "553f7631",
   "metadata": {},
   "source": [
    "FUNÇÕES BUILT-IN"
   ]
  },
  {
   "cell_type": "markdown",
   "id": "51ad372c",
   "metadata": {},
   "source": [
    "Mostra o tamanho da lista criada"
   ]
  },
  {
   "cell_type": "code",
   "execution_count": 70,
   "id": "5d3eb809",
   "metadata": {},
   "outputs": [
    {
     "data": {
      "text/plain": [
       "4"
      ]
     },
     "execution_count": 70,
     "metadata": {},
     "output_type": "execute_result"
    }
   ],
   "source": [
    "# Função len() retorna o comprimento da lista - Mostra o tamanho da lista criada\n",
    "len(lista_teste_op)"
   ]
  },
  {
   "cell_type": "code",
   "execution_count": 71,
   "id": "a7fa28b9",
   "metadata": {},
   "outputs": [
    {
     "data": {
      "text/plain": [
       "100"
      ]
     },
     "execution_count": 71,
     "metadata": {},
     "output_type": "execute_result"
    }
   ],
   "source": [
    "# Função max() retorna o valor máximo da lista\n",
    "max(lista_teste_op)"
   ]
  },
  {
   "cell_type": "code",
   "execution_count": 72,
   "id": "ba05f7f0",
   "metadata": {},
   "outputs": [
    {
     "data": {
      "text/plain": [
       "-5"
      ]
     },
     "execution_count": 72,
     "metadata": {},
     "output_type": "execute_result"
    }
   ],
   "source": [
    "# Função min() retorna o valor mínimo da lista\n",
    "min(lista_teste_op)"
   ]
  },
  {
   "cell_type": "code",
   "execution_count": 73,
   "id": "801dd080",
   "metadata": {},
   "outputs": [],
   "source": [
    "# Criando uma lista\n",
    "listadomercado2 = [\"ovos\", \"farinha\", \"leite\", \"maças\"]"
   ]
  },
  {
   "cell_type": "code",
   "execution_count": 74,
   "id": "d4cfe34e",
   "metadata": {},
   "outputs": [],
   "source": [
    "# Adicionando um item à lista\n",
    "listadomercado2.append(\"carne\")"
   ]
  },
  {
   "cell_type": "code",
   "execution_count": 75,
   "id": "6d59f59c",
   "metadata": {},
   "outputs": [
    {
     "data": {
      "text/plain": [
       "['ovos', 'farinha', 'leite', 'maças', 'carne']"
      ]
     },
     "execution_count": 75,
     "metadata": {},
     "output_type": "execute_result"
    }
   ],
   "source": [
    "listadomercado2"
   ]
  },
  {
   "cell_type": "code",
   "execution_count": 76,
   "id": "f2774c20",
   "metadata": {},
   "outputs": [],
   "source": [
    "listadomercado2.append(\"carne\")"
   ]
  },
  {
   "cell_type": "code",
   "execution_count": 77,
   "id": "508285d7",
   "metadata": {},
   "outputs": [
    {
     "data": {
      "text/plain": [
       "['ovos', 'farinha', 'leite', 'maças', 'carne', 'carne']"
      ]
     },
     "execution_count": 77,
     "metadata": {},
     "output_type": "execute_result"
    }
   ],
   "source": [
    "listadomercado2"
   ]
  },
  {
   "cell_type": "code",
   "execution_count": 78,
   "id": "2fd47c8e",
   "metadata": {},
   "outputs": [
    {
     "data": {
      "text/plain": [
       "2"
      ]
     },
     "execution_count": 78,
     "metadata": {},
     "output_type": "execute_result"
    }
   ],
   "source": [
    "listadomercado2.count(\"carne\")"
   ]
  },
  {
   "cell_type": "code",
   "execution_count": 79,
   "id": "0ea8cd07",
   "metadata": {},
   "outputs": [],
   "source": [
    "# Criando uma lista vazia\n",
    "a = []"
   ]
  },
  {
   "cell_type": "code",
   "execution_count": 81,
   "id": "7caaaf06",
   "metadata": {},
   "outputs": [
    {
     "name": "stdout",
     "output_type": "stream",
     "text": [
      "[]\n"
     ]
    }
   ],
   "source": [
    "print(a)"
   ]
  },
  {
   "cell_type": "code",
   "execution_count": 91,
   "id": "23344d9a",
   "metadata": {},
   "outputs": [
    {
     "data": {
      "text/plain": [
       "list"
      ]
     },
     "execution_count": 91,
     "metadata": {},
     "output_type": "execute_result"
    }
   ],
   "source": [
    "type(a)"
   ]
  },
  {
   "cell_type": "code",
   "execution_count": 92,
   "id": "fa28233d",
   "metadata": {},
   "outputs": [],
   "source": [
    "a.append(10)"
   ]
  },
  {
   "cell_type": "code",
   "execution_count": 93,
   "id": "2c87e0af",
   "metadata": {},
   "outputs": [
    {
     "data": {
      "text/plain": [
       "[50, 10, 10, 10, 10]"
      ]
     },
     "execution_count": 93,
     "metadata": {},
     "output_type": "execute_result"
    }
   ],
   "source": [
    "a"
   ]
  },
  {
   "cell_type": "code",
   "execution_count": 94,
   "id": "a3d1f7aa",
   "metadata": {},
   "outputs": [],
   "source": [
    "old_list = [1,2,5,10]"
   ]
  },
  {
   "cell_type": "code",
   "execution_count": 95,
   "id": "76b6b149",
   "metadata": {},
   "outputs": [],
   "source": [
    "new_list = []"
   ]
  },
  {
   "cell_type": "code",
   "execution_count": 96,
   "id": "910bfdeb",
   "metadata": {},
   "outputs": [],
   "source": [
    "# Copiando os itens de uma lista para outra, for preenche a nova lista com os itens da anterior\n",
    "for item in old_list:\n",
    "    new_list.append(item)"
   ]
  },
  {
   "cell_type": "code",
   "execution_count": 97,
   "id": "8272ca16",
   "metadata": {},
   "outputs": [
    {
     "data": {
      "text/plain": [
       "[1, 2, 5, 10]"
      ]
     },
     "execution_count": 97,
     "metadata": {},
     "output_type": "execute_result"
    }
   ],
   "source": [
    "new_list"
   ]
  },
  {
   "cell_type": "code",
   "execution_count": 98,
   "id": "29324b1b",
   "metadata": {},
   "outputs": [],
   "source": [
    "c = [20,30]"
   ]
  },
  {
   "cell_type": "code",
   "execution_count": 99,
   "id": "d76f075a",
   "metadata": {},
   "outputs": [],
   "source": [
    "c.append(60)"
   ]
  },
  {
   "cell_type": "code",
   "execution_count": 100,
   "id": "a14fc4e1",
   "metadata": {},
   "outputs": [],
   "source": [
    "c.append(70)"
   ]
  },
  {
   "cell_type": "code",
   "execution_count": 101,
   "id": "dc7aa68b",
   "metadata": {},
   "outputs": [
    {
     "data": {
      "text/plain": [
       "[20, 30, 60, 70]"
      ]
     },
     "execution_count": 101,
     "metadata": {},
     "output_type": "execute_result"
    }
   ],
   "source": [
    "c"
   ]
  },
  {
   "cell_type": "code",
   "execution_count": 102,
   "id": "61e56d9c",
   "metadata": {},
   "outputs": [
    {
     "data": {
      "text/plain": [
       "1"
      ]
     },
     "execution_count": 102,
     "metadata": {},
     "output_type": "execute_result"
    }
   ],
   "source": [
    "c.count(20)"
   ]
  },
  {
   "cell_type": "code",
   "execution_count": 104,
   "id": "313c1562",
   "metadata": {},
   "outputs": [
    {
     "name": "stdout",
     "output_type": "stream",
     "text": [
      "['Recife', 'Manaus', 'Salvador', 'Fortaleza', 'Palmas']\n"
     ]
    }
   ],
   "source": [
    "# O extend inclui mais informações no final\n",
    "cidades = ['Recife', 'Manaus', 'Salvador']\n",
    "cidades.extend(['Fortaleza', 'Palmas'])\n",
    "print (cidades)"
   ]
  },
  {
   "cell_type": "code",
   "execution_count": 105,
   "id": "d1117449",
   "metadata": {},
   "outputs": [
    {
     "ename": "ValueError",
     "evalue": "'Rio de Janeiro' is not in list",
     "output_type": "error",
     "traceback": [
      "\u001b[1;31m---------------------------------------------------------------------------\u001b[0m",
      "\u001b[1;31mValueError\u001b[0m                                Traceback (most recent call last)",
      "\u001b[1;32m~\\AppData\\Local\\Temp/ipykernel_1648/3891498012.py\u001b[0m in \u001b[0;36m<module>\u001b[1;34m\u001b[0m\n\u001b[1;32m----> 1\u001b[1;33m \u001b[0mcidades\u001b[0m\u001b[1;33m.\u001b[0m\u001b[0mindex\u001b[0m\u001b[1;33m(\u001b[0m\u001b[1;34m'Rio de Janeiro'\u001b[0m\u001b[1;33m)\u001b[0m\u001b[1;33m\u001b[0m\u001b[1;33m\u001b[0m\u001b[0m\n\u001b[0m",
      "\u001b[1;31mValueError\u001b[0m: 'Rio de Janeiro' is not in list"
     ]
    }
   ],
   "source": [
    "cidades.index('Rio de Janeiro')"
   ]
  },
  {
   "cell_type": "code",
   "execution_count": 106,
   "id": "074dc8d2",
   "metadata": {},
   "outputs": [
    {
     "data": {
      "text/plain": [
       "2"
      ]
     },
     "execution_count": 106,
     "metadata": {},
     "output_type": "execute_result"
    }
   ],
   "source": [
    "# Index procura o valor e retorna com o número do índice  que sempre começa com 0\n",
    "cidades.index('Salvador')"
   ]
  },
  {
   "cell_type": "code",
   "execution_count": 107,
   "id": "1ed81407",
   "metadata": {},
   "outputs": [
    {
     "data": {
      "text/plain": [
       "['Recife', 'Manaus', 'Salvador', 'Fortaleza', 'Palmas']"
      ]
     },
     "execution_count": 107,
     "metadata": {},
     "output_type": "execute_result"
    }
   ],
   "source": [
    "cidades"
   ]
  },
  {
   "cell_type": "code",
   "execution_count": 108,
   "id": "3ba45938",
   "metadata": {},
   "outputs": [],
   "source": [
    "# Inseri um conteúdo de acordo a posição desejada\n",
    "cidades.insert(2,110)"
   ]
  },
  {
   "cell_type": "code",
   "execution_count": 109,
   "id": "102b2b58",
   "metadata": {},
   "outputs": [
    {
     "data": {
      "text/plain": [
       "['Recife', 'Manaus', 110, 'Salvador', 'Fortaleza', 'Palmas']"
      ]
     },
     "execution_count": 109,
     "metadata": {},
     "output_type": "execute_result"
    }
   ],
   "source": [
    "cidades"
   ]
  },
  {
   "cell_type": "code",
   "execution_count": 114,
   "id": "fc06f38a",
   "metadata": {},
   "outputs": [],
   "source": [
    "# Remove um item da lista\n",
    "cidades.remove(110)"
   ]
  },
  {
   "cell_type": "code",
   "execution_count": 115,
   "id": "a1b24158",
   "metadata": {},
   "outputs": [
    {
     "data": {
      "text/plain": [
       "['Recife', 'Manaus', 'Salvador', 'Fortaleza', 'Palmas']"
      ]
     },
     "execution_count": 115,
     "metadata": {},
     "output_type": "execute_result"
    }
   ],
   "source": [
    "cidades"
   ]
  },
  {
   "cell_type": "code",
   "execution_count": 116,
   "id": "d704c95a",
   "metadata": {},
   "outputs": [],
   "source": [
    "# Reverte a lista\n",
    "cidades.reverse()"
   ]
  },
  {
   "cell_type": "code",
   "execution_count": 117,
   "id": "a6307776",
   "metadata": {},
   "outputs": [
    {
     "data": {
      "text/plain": [
       "['Palmas', 'Fortaleza', 'Salvador', 'Manaus', 'Recife']"
      ]
     },
     "execution_count": 117,
     "metadata": {},
     "output_type": "execute_result"
    }
   ],
   "source": [
    "# Imprime a lista\n",
    "cidades"
   ]
  },
  {
   "cell_type": "code",
   "execution_count": 118,
   "id": "407db860",
   "metadata": {},
   "outputs": [],
   "source": [
    "x = [3,4,2,1]"
   ]
  },
  {
   "cell_type": "code",
   "execution_count": 119,
   "id": "73cc1ee7",
   "metadata": {},
   "outputs": [],
   "source": [
    "# Ordena a lista\n",
    "x.sort()"
   ]
  },
  {
   "cell_type": "code",
   "execution_count": 120,
   "id": "c7138311",
   "metadata": {},
   "outputs": [
    {
     "data": {
      "text/plain": [
       "[1, 2, 3, 4]"
      ]
     },
     "execution_count": 120,
     "metadata": {},
     "output_type": "execute_result"
    }
   ],
   "source": [
    "x"
   ]
  },
  {
   "cell_type": "markdown",
   "id": "b2d0c222",
   "metadata": {},
   "source": [
    "FIM"
   ]
  },
  {
   "cell_type": "code",
   "execution_count": null,
   "id": "b2f7f025",
   "metadata": {},
   "outputs": [],
   "source": []
  }
 ],
 "metadata": {
  "kernelspec": {
   "display_name": "Python 3 (ipykernel)",
   "language": "python",
   "name": "python3"
  },
  "language_info": {
   "codemirror_mode": {
    "name": "ipython",
    "version": 3
   },
   "file_extension": ".py",
   "mimetype": "text/x-python",
   "name": "python",
   "nbconvert_exporter": "python",
   "pygments_lexer": "ipython3",
   "version": "3.9.7"
  }
 },
 "nbformat": 4,
 "nbformat_minor": 5
}
